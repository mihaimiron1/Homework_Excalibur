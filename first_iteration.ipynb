{
 "cells": [
  {
   "cell_type": "code",
   "execution_count": 3,
   "id": "95d2986c",
   "metadata": {},
   "outputs": [],
   "source": [
    "#Asigurațivă că ați rulat comanda `pip install sigmoid_check` în terminal înainte de a rula acest script.\n",
    "from sigmoid_check.python_warmup import *"
   ]
  },
  {
   "cell_type": "code",
   "execution_count": 3,
   "id": "9ba8741e",
   "metadata": {},
   "outputs": [
    {
     "name": "stdout",
     "output_type": "stream",
     "text": [
      "✅ Great job! Exercise completed successfully.\n"
     ]
    }
   ],
   "source": [
    "@check_exercise_1\n",
    "def exercise_1():\n",
    "    # This line is mandatory and should not be removed\n",
    "    ex_stat_init = True\n",
    "    \n",
    "    # print the text \"Hello, World!\" to the console;\n",
    "    # BELOW GOES YOUR CODE\n",
    "    print(\"Hello, World!\")\n",
    "    # ABOVE GOES YOUR CODE\n",
    "\n",
    "exercise_1()"
   ]
  },
  {
   "cell_type": "code",
   "execution_count": 4,
   "id": "989693a2",
   "metadata": {},
   "outputs": [
    {
     "name": "stdout",
     "output_type": "stream",
     "text": [
      "✅ Great job! Exercise completed successfully.\n"
     ]
    }
   ],
   "source": [
    "@check_exercise_2\n",
    "def exercise_2():\n",
    "    # This line is mandatory and should not be removed\n",
    "    ex_stat_init = True\n",
    "    \n",
    "    # print the result of 3 + 5;\n",
    "    # BELOW GOES YOUR CODE\n",
    "    print(3+5)\n",
    "    # ABOVE GOES YOUR CODE\n",
    "\n",
    "# Run the exercise\n",
    "exercise_2()"
   ]
  },
  {
   "cell_type": "code",
   "execution_count": 4,
   "id": "9b7f4ffb",
   "metadata": {},
   "outputs": [
    {
     "name": "stdout",
     "output_type": "stream",
     "text": [
      "✅ Great job! Exercise completed successfully.\n"
     ]
    }
   ],
   "source": [
    "@check_exercise_3\n",
    "def exercise_3():\n",
    "    # This line is mandatory and should not be removed\n",
    "    ex_stat_init = True\n",
    "    \n",
    "    # create a variable called \"name\" and assign it the value \"John\";\n",
    "    # BELOW GOES YOUR CODE\n",
    "    name=\"John\"\n",
    "    # ABOVE GOES YOUR CODE\n",
    "\n",
    "    # Return the variables you want to check\n",
    "    return {\"name\": name}\n",
    "\n",
    "# Run the exercise\n",
    "exercise_3()"
   ]
  },
  {
   "cell_type": "code",
   "execution_count": 6,
   "id": "4ea341d6",
   "metadata": {},
   "outputs": [
    {
     "name": "stdout",
     "output_type": "stream",
     "text": [
      "✅ Great job! Exercise completed successfully.\n"
     ]
    }
   ],
   "source": [
    "@check_exercise_4\n",
    "def exercise_4(name):\n",
    "    # This line is mandatory and should not be removed\n",
    "    ex_stat_init = True\n",
    "    \n",
    "    # print the text \"Hello, John!\" to the console using the variable `name`;\n",
    "    # BELOW GOES YOUR CODE\n",
    "\n",
    "    print(f\"Hello, {name}!\")\n",
    "    # ABOVE GOES YOUR CODE\n",
    "\n",
    "# Run the exercise\n",
    "exercise_4()\n"
   ]
  },
  {
   "cell_type": "code",
   "execution_count": 7,
   "id": "53259942",
   "metadata": {},
   "outputs": [
    {
     "name": "stdout",
     "output_type": "stream",
     "text": [
      "✅ Great job! Exercise completed successfully.\n"
     ]
    }
   ],
   "source": [
    "@check_exercise_5\n",
    "def exercise_5():\n",
    "    # This line is mandatory and should not be removed\n",
    "    ex_stat_init = True\n",
    "    \n",
    "    # create a variable called \"age\" and assign it the value 25;\n",
    "    # BELOW GOES YOUR CODE\n",
    "    age=25\n",
    "    # ABOVE GOES YOUR CODE\n",
    "    return {\"age\": age}\n",
    "\n",
    "# Run the exercise\n",
    "exercise_5()"
   ]
  },
  {
   "cell_type": "code",
   "execution_count": 8,
   "id": "de9c1649",
   "metadata": {},
   "outputs": [
    {
     "name": "stdout",
     "output_type": "stream",
     "text": [
      "✅ Great job! Exercise completed successfully.\n"
     ]
    }
   ],
   "source": [
    "@check_exercise_6\n",
    "def exercise_6(name, age):\n",
    "    # This line is mandatory and should not be removed\n",
    "    ex_stat_init = True\n",
    "    \n",
    "    # print the text \"John is 25 years old\" to the console using the variables `name` and `age`;\n",
    "    # BELOW GOES YOUR CODE\n",
    "    print(f\"{name} is {age} years old\")\n",
    "    # ABOVE GOES YOUR CODE\n",
    "\n",
    "# Run the exercise\n",
    "exercise_6()"
   ]
  },
  {
   "cell_type": "code",
   "execution_count": null,
   "id": "257930a9",
   "metadata": {},
   "outputs": [],
   "source": []
  },
  {
   "cell_type": "code",
   "execution_count": 10,
   "id": "93a096d0",
   "metadata": {},
   "outputs": [
    {
     "name": "stdout",
     "output_type": "stream",
     "text": [
      "✅ Great job! Exercise completed successfully.\n"
     ]
    }
   ],
   "source": [
    "@check_exercise_7\n",
    "def exercise_7():\n",
    "    # This line is mandatory and should not be removed\n",
    "    ex_stat_init = True\n",
    "    \n",
    "    # create a variable called \"is_old\" and assign it the value True;\n",
    "    # BELOW GOES YOUR CODE\n",
    "    is_old=True\n",
    "    # ABOVE GOES YOUR CODE\n",
    "    return {\"is_old\": is_old}\n",
    "\n",
    "# Run the exercise\n",
    "exercise_7()"
   ]
  },
  {
   "cell_type": "code",
   "execution_count": 11,
   "id": "4c8dd41b",
   "metadata": {},
   "outputs": [
    {
     "name": "stdout",
     "output_type": "stream",
     "text": [
      "✅ Great job! Exercise completed successfully.\n"
     ]
    }
   ],
   "source": [
    "@check_exercise_8\n",
    "def exercise_8(is_old):\n",
    "    # This line is mandatory and should not be removed\n",
    "    ex_stat_init = True\n",
    "    \n",
    "    # print the text \"John is old\" to the console if `is_old` is True;\n",
    "    # BELOW GOES YOUR CODE\n",
    "    if is_old:\n",
    "        print(\"John is old\")\n",
    "    # ABOVE GOES YOUR CODE\n",
    "\n",
    "# Run the exercise\n",
    "exercise_8()"
   ]
  },
  {
   "cell_type": "code",
   "execution_count": 12,
   "id": "b850638b",
   "metadata": {},
   "outputs": [
    {
     "name": "stdout",
     "output_type": "stream",
     "text": [
      "✅ Great job! Exercise completed successfully.\n"
     ]
    }
   ],
   "source": [
    "@check_exercise_9\n",
    "def exercise_9(name, age):\n",
    "    # This line is mandatory and should not be removed\n",
    "    ex_stat_init = True\n",
    "    \n",
    "    # swap the values of the variables `name` and `age` using a third variable;\n",
    "    # BELOW GOES YOUR CODE\n",
    "    temp=name\n",
    "    name=age\n",
    "    age=temp\n",
    "    # ABOVE GOES YOUR CODE\n",
    "    return {\"name\": name, \"age\": age}\n",
    "\n",
    "# Run the exercise\n",
    "exercise_9()"
   ]
  },
  {
   "cell_type": "code",
   "execution_count": 15,
   "id": "07782aa8",
   "metadata": {},
   "outputs": [
    {
     "name": "stdout",
     "output_type": "stream",
     "text": [
      "✅ Great job! Exercise completed successfully.\n"
     ]
    }
   ],
   "source": [
    "@check_exercise_10\n",
    "def exercise_10(name, age):\n",
    "    # This line is mandatory and should not be removed\n",
    "    ex_stat_init = True\n",
    "    \n",
    "    # swap the values of the variables `name` and `age` using only two variables;\n",
    "    # BELOW GOES YOUR CODE\n",
    "    name, age = age, name\n",
    "    # ABOVE GOES YOUR CODE\n",
    "    return {\"name\": name, \"age\": age}\n",
    "\n",
    "# Run the exercise\n",
    "exercise_10()"
   ]
  },
  {
   "cell_type": "code",
   "execution_count": 16,
   "id": "b6b5ed54",
   "metadata": {},
   "outputs": [
    {
     "name": "stdout",
     "output_type": "stream",
     "text": [
      "✅ Great job! Exercise completed successfully.\n"
     ]
    }
   ],
   "source": [
    "@check_exercise_11\n",
    "def exercise_11():\n",
    "    # This line is mandatory and should not be removed\n",
    "    ex_stat_init = True\n",
    "    \n",
    "    # create a variable called \"height\" and assign it the value 1.75;\n",
    "    # BELOW GOES YOUR CODE\n",
    "    height=1.75\n",
    "    # ABOVE GOES YOUR CODE\n",
    "    return {\"height\": height}\n",
    "\n",
    "# Run the exercise\n",
    "exercise_11()"
   ]
  },
  {
   "cell_type": "code",
   "execution_count": 17,
   "id": "b5d888db",
   "metadata": {},
   "outputs": [
    {
     "name": "stdout",
     "output_type": "stream",
     "text": [
      "✅ Great job! Exercise completed successfully.\n"
     ]
    }
   ],
   "source": [
    "@check_exercise_12\n",
    "def exercise_12(name, age, height):\n",
    "    # This line is mandatory and should not be removed\n",
    "    ex_stat_init = True\n",
    "    \n",
    "    # print the text \"John is 25 years old and is 1.75m tall\" to the console using the variables `name`, `age` and `height`;\n",
    "    # BELOW GOES YOUR CODE\n",
    "    print(f\"{name} is {age} years old and is {height}m tall\")\n",
    "    # ABOVE GOES YOUR CODE\n",
    "\n",
    "# Run the exercise\n",
    "exercise_12()"
   ]
  },
  {
   "cell_type": "code",
   "execution_count": 18,
   "id": "dc0aa44b",
   "metadata": {},
   "outputs": [
    {
     "name": "stdout",
     "output_type": "stream",
     "text": [
      "✅ Great job! Exercise completed successfully.\n"
     ]
    }
   ],
   "source": [
    "@check_exercise_13\n",
    "def exercise_13():\n",
    "    # This line is mandatory and should not be removed\n",
    "    ex_stat_init = True\n",
    "    \n",
    "    # create a variable called \"is_tall\" and a variable called \"is_old\" and assign them the values True and False, respectively;\n",
    "    # BELOW GOES YOUR CODE\n",
    "    is_tall=True\n",
    "    is_old=False\n",
    "    # ABOVE GOES YOUR CODE\n",
    "    return {\"is_tall\": is_tall, \"is_old\": is_old}\n",
    "\n",
    "# Run the exercise\n",
    "exercise_13()"
   ]
  },
  {
   "cell_type": "code",
   "execution_count": 19,
   "id": "b434afd0",
   "metadata": {},
   "outputs": [
    {
     "name": "stdout",
     "output_type": "stream",
     "text": [
      "✅ Great job! Exercise completed successfully.\n"
     ]
    }
   ],
   "source": [
    "@check_exercise_14\n",
    "def exercise_14(is_tall, is_old):\n",
    "    # This line is mandatory and should not be removed\n",
    "    ex_stat_init = True\n",
    "    \n",
    "    # print the text \"John is tall and old\" to the console if `is_tall` and `is_old` are True;\n",
    "    # BELOW GOES YOUR CODE\n",
    "    if is_tall and is_old:\n",
    "            print(\"John is tall and old\")\n",
    "    # ABOVE GOES YOUR CODE\n",
    "\n",
    "# Run the exercise\n",
    "exercise_14()"
   ]
  },
  {
   "cell_type": "code",
   "execution_count": 20,
   "id": "e1ad0e14",
   "metadata": {},
   "outputs": [
    {
     "name": "stdout",
     "output_type": "stream",
     "text": [
      "✅ Great job! Exercise completed successfully.\n"
     ]
    }
   ],
   "source": [
    "@check_exercise_15\n",
    "def exercise_15(is_tall, is_old):\n",
    "    # This line is mandatory and should not be removed\n",
    "    ex_stat_init = True\n",
    "    \n",
    "    # print the text \"John is tall or old\" to the console if `is_tall` or `is_old` are True;\n",
    "    # BELOW GOES YOUR CODE\n",
    "    if is_tall | is_old:\n",
    "            print(\"John is tall or old\")\n",
    "    # ABOVE GOES YOUR CODE\n",
    "\n",
    "# Run the exercise\n",
    "exercise_15()"
   ]
  },
  {
   "cell_type": "code",
   "execution_count": 21,
   "id": "d7837323",
   "metadata": {},
   "outputs": [
    {
     "name": "stdout",
     "output_type": "stream",
     "text": [
      "✅ Great job! Exercise completed successfully.\n"
     ]
    }
   ],
   "source": [
    "@check_exercise_16\n",
    "def exercise_16(is_tall):\n",
    "    # This line is mandatory and should not be removed\n",
    "    ex_stat_init = True\n",
    "    \n",
    "    # print the text \"John is not tall\" to the console if `is_tall` is False;\n",
    "    # BELOW GOES YOUR CODE\n",
    "    if not is_tall:\n",
    "            print(\"John is not tall\")\n",
    "    # ABOVE GOES YOUR CODE\n",
    "\n",
    "# Run the exercise\n",
    "exercise_16()"
   ]
  },
  {
   "cell_type": "code",
   "execution_count": 22,
   "id": "320836cb",
   "metadata": {},
   "outputs": [
    {
     "name": "stdout",
     "output_type": "stream",
     "text": [
      "✅ Great job! Exercise completed successfully.\n"
     ]
    }
   ],
   "source": [
    "@check_exercise_17\n",
    "def exercise_17(is_old):\n",
    "    # This line is mandatory and should not be removed\n",
    "    ex_stat_init = True\n",
    "    \n",
    "    # print the text \"John is not old\" to the console if `is_old` is False;\n",
    "    # BELOW GOES YOUR CODE\n",
    "    if not is_old:\n",
    "        print(\"John is not old\")\n",
    "    # ABOVE GOES YOUR CODE\n",
    "\n",
    "# Run the exercise\n",
    "exercise_17()"
   ]
  },
  {
   "cell_type": "code",
   "execution_count": 25,
   "id": "67221c1c",
   "metadata": {},
   "outputs": [
    {
     "name": "stdout",
     "output_type": "stream",
     "text": [
      "✅ Great job! Exercise completed successfully.\n"
     ]
    }
   ],
   "source": [
    "@check_exercise_18\n",
    "def exercise_18(is_tall, is_old):\n",
    "    # This line is mandatory and should not be removed\n",
    "    ex_stat_init = True\n",
    "    \n",
    "    # print the text \"John is tall and not old\" to the console if `is_tall` is True and `is_old` is False;\n",
    "    # BELOW GOES YOUR CODE\n",
    "    if is_tall and not is_old:\n",
    "            print(\"John is tall and not old\")\n",
    "    # ABOVE GOES YOUR CODE\n",
    "\n",
    "# Run the exercise\n",
    "exercise_18()"
   ]
  },
  {
   "cell_type": "code",
   "execution_count": 26,
   "id": "b9255bec",
   "metadata": {},
   "outputs": [
    {
     "name": "stdout",
     "output_type": "stream",
     "text": [
      "✅ Great job! Exercise completed successfully.\n"
     ]
    }
   ],
   "source": [
    "@check_exercise_19\n",
    "def exercise_19(is_tall, is_old):\n",
    "    # This line is mandatory and should not be removed\n",
    "    ex_stat_init = True\n",
    "    \n",
    "    # print the text \"John is not tall and old\" to the console if `is_tall` is False and `is_old` is True;\n",
    "    # BELOW GOES YOUR CODE\n",
    "    if not is_tall and is_old:\n",
    "            print(\"John is not tall and old\")\n",
    "    # ABOVE GOES YOUR CODE\n",
    "\n",
    "# Run the exercise\n",
    "exercise_19()"
   ]
  },
  {
   "cell_type": "code",
   "execution_count": 27,
   "id": "4b27d8da",
   "metadata": {},
   "outputs": [
    {
     "name": "stdout",
     "output_type": "stream",
     "text": [
      "✅ Great job! Exercise completed successfully.\n"
     ]
    }
   ],
   "source": [
    "@check_exercise_20\n",
    "def exercise_20(age):\n",
    "    # This line is mandatory and should not be removed\n",
    "    ex_stat_init = True\n",
    "    \n",
    "    # print the text \"John is older than 30\" to the console if `age` is greater than 30;\n",
    "    # BELOW GOES YOUR CODE\n",
    "    if age>30:\n",
    "        print(\"John is older than 30\")\n",
    "    # ABOVE GOES YOUR CODE\n",
    "\n",
    "# Run the exercise\n",
    "exercise_20()"
   ]
  },
  {
   "cell_type": "code",
   "execution_count": 28,
   "id": "93238aa5",
   "metadata": {},
   "outputs": [
    {
     "name": "stdout",
     "output_type": "stream",
     "text": [
      "✅ Great job! Exercise completed successfully.\n"
     ]
    }
   ],
   "source": [
    "@check_exercise_21\n",
    "def exercise_21(age):\n",
    "    # This line is mandatory and should not be removed\n",
    "    ex_stat_init = True\n",
    "    \n",
    "    # print the text \"John is younger than 30\" to the console if `age` is less than 30;\n",
    "    # BELOW GOES YOUR CODE\n",
    "    if age<30:\n",
    "        print(\"John is younger than 30\")\n",
    "    # ABOVE GOES YOUR CODE\n",
    "\n",
    "# Run the exercise\n",
    "exercise_21()"
   ]
  },
  {
   "cell_type": "code",
   "execution_count": 29,
   "id": "b412b158",
   "metadata": {},
   "outputs": [
    {
     "name": "stdout",
     "output_type": "stream",
     "text": [
      "✅ Great job! Exercise completed successfully.\n"
     ]
    }
   ],
   "source": [
    "@check_exercise_22\n",
    "def exercise_22():\n",
    "    # This line is mandatory and should not be removed\n",
    "    ex_stat_init = True\n",
    "    \n",
    "    # create a variable `x` and assign it the value 42; create a variable `y` and assign it the value 9; create a variable `z` and assign it the value 7;\n",
    "    # BELOW GOES YOUR CODE\n",
    "    x=42\n",
    "    y=9\n",
    "    z=7\n",
    "    # ABOVE GOES YOUR CODE\n",
    "    return {\"x\": x, \"y\": y, \"z\": z}\n",
    "\n",
    "# Run the exercise\n",
    "exercise_22()"
   ]
  },
  {
   "cell_type": "code",
   "execution_count": 30,
   "id": "b390ee85",
   "metadata": {},
   "outputs": [
    {
     "name": "stdout",
     "output_type": "stream",
     "text": [
      "✅ Great job! Exercise completed successfully.\n"
     ]
    }
   ],
   "source": [
    "@check_exercise_23\n",
    "def exercise_23(x, y, z):\n",
    "    # This line is mandatory and should not be removed\n",
    "    ex_stat_init = True\n",
    "    \n",
    "    # create a dictionary called `computations` with the keys \"add_x_y\", \"add_x_z\", \"add_y_z\", \"sub_x_y\", \"sub_x_z\", \"sub_y_z\", \"mul_x_y\", \"mul_x_z\", \"mul_y_z\", \"div_x_y\", \"div_x_z\", \"div_y_z\", \"mod_x_y\", \"mod_x_z\", \"mod_y_z\", \"pow_x_y\", \"pow_x_z\", \"pow_y_z\" and the values the results of the respective operations;\n",
    "    # BELOW GOES YOUR CODE\n",
    "    computations = {\n",
    "    \"add_x_y\": x + y,\n",
    "    \"add_x_z\": x + z,\n",
    "    \"add_y_z\": y + z,\n",
    "    \"sub_x_y\": x - y,\n",
    "    \"sub_x_z\": x - z,\n",
    "    \"sub_y_z\": y - z,\n",
    "    \"mul_x_y\": x * y,\n",
    "    \"mul_x_z\": x * z,\n",
    "    \"mul_y_z\": y * z,\n",
    "    \"div_x_y\": x / y if y != 0 else None,\n",
    "    \"div_x_z\": x / z if z != 0 else None,\n",
    "    \"div_y_z\": y / z if z != 0 else None,\n",
    "    \"mod_x_y\": x % y,\n",
    "    \"mod_x_z\": x % z,\n",
    "    \"mod_y_z\": y % z,\n",
    "    \"pow_x_y\": x ** y,\n",
    "    \"pow_x_z\": x ** z,\n",
    "    \"pow_y_z\": y ** z,\n",
    "}\n",
    "    # ABOVE GOES YOUR CODE\n",
    "    return {\n",
    "        \"computations\": computations\n",
    "    }\n",
    "\n",
    "# Run the exercise\n",
    "exercise_23()"
   ]
  },
  {
   "cell_type": "code",
   "execution_count": 7,
   "id": "da732269",
   "metadata": {},
   "outputs": [
    {
     "name": "stdout",
     "output_type": "stream",
     "text": [
      "✅ Great job! Exercise completed successfully.\n"
     ]
    }
   ],
   "source": [
    "@check_exercise_24\n",
    "def exercise_24(coordinates):\n",
    "    # This line is mandatory and should not be removed\n",
    "    ex_stat_init = True\n",
    "\n",
    "    # given a tuple `coordinates` with the values (1, 2, 3), unpack the values into the variables `x`, `y` and `z`;\n",
    "    # BELOW GOES YOUR CODE\n",
    "    x,y,z=coordinates\n",
    "    # ABOVE GOES YOUR CODE\n",
    "    return {\n",
    "        \"x\": x,\n",
    "        \"y\": y,\n",
    "        \"z\": z\n",
    "    }\n",
    "\n",
    "# Run the exercise\n",
    "exercise_24()"
   ]
  },
  {
   "cell_type": "code",
   "execution_count": 8,
   "id": "e78dd8c6",
   "metadata": {},
   "outputs": [
    {
     "name": "stdout",
     "output_type": "stream",
     "text": [
      "✅ Great job! Exercise completed successfully.\n"
     ]
    }
   ],
   "source": [
    "@check_exercise_25\n",
    "def exercise_25(x, y, z):\n",
    "    # This line is mandatory and should not be removed\n",
    "    ex_stat_init = True\n",
    "\n",
    "    # create a tuple called `coordinates` with the values of the variables `x`, `y` and `z`;\n",
    "    # BELOW GOES YOUR CODE\n",
    "    coordinates=(x,y,z)\n",
    "    # ABOVE GOES YOUR CODE\n",
    "    return {\n",
    "        \"coordinates\": coordinates\n",
    "    }\n",
    "\n",
    "# Run the exercise\n",
    "exercise_25()"
   ]
  },
  {
   "cell_type": "code",
   "execution_count": 10,
   "id": "6feefbc2",
   "metadata": {},
   "outputs": [
    {
     "name": "stdout",
     "output_type": "stream",
     "text": [
      "✅ Great job! Exercise completed successfully.\n"
     ]
    }
   ],
   "source": [
    "@check_exercise_26\n",
    "def exercise_26(number1, number2):\n",
    "    # This line is mandatory and should not be removed\n",
    "    ex_stat_init = True\n",
    "\n",
    "    # convert the variable `number1` from float to integer and `number2` from integer to float;\n",
    "    # BELOW GOES YOUR CODE\n",
    "    number1=int(number1)\n",
    "    number2=float(number2)\n",
    "    # ABOVE GOES YOUR CODE\n",
    "    return {\n",
    "        \"number1\": number1,\n",
    "        \"number2\": number2\n",
    "    }\n",
    "\n",
    "# Run the exercise\n",
    "exercise_26()"
   ]
  },
  {
   "cell_type": "code",
   "execution_count": 11,
   "id": "1e0cee28",
   "metadata": {},
   "outputs": [
    {
     "name": "stdout",
     "output_type": "stream",
     "text": [
      "✅ Great job! Exercise completed successfully.\n"
     ]
    }
   ],
   "source": [
    "@check_exercise_27\n",
    "def exercise_27(elements1, elements2):\n",
    "    # This line is mandatory and should not be removed\n",
    "    ex_stat_init = True\n",
    "\n",
    "    # convert the variable `elements1` from a list to a tuple and `elements2` from a tuple to a list;\n",
    "    # BELOW GOES YOUR CODE\n",
    "    elements1=tuple(elements1)\n",
    "    elements2=list(elements2)\n",
    "    # ABOVE GOES YOUR CODE\n",
    "    return {\n",
    "        \"elements1\": elements1,\n",
    "        \"elements2\": elements2\n",
    "    }\n",
    "\n",
    "# Run the exercise\n",
    "exercise_27()"
   ]
  },
  {
   "cell_type": "code",
   "execution_count": 12,
   "id": "f61b760d",
   "metadata": {},
   "outputs": [
    {
     "name": "stdout",
     "output_type": "stream",
     "text": [
      "✅ Great job! Exercise completed successfully.\n"
     ]
    }
   ],
   "source": [
    "@check_exercise_28\n",
    "def exercise_28(elements):\n",
    "    # This line is mandatory and should not be removed\n",
    "    ex_stat_init = True\n",
    "\n",
    "    # given the list `elements`, set the value true to the variable `present` if the element \"Python\" is in the list, otherwise return false;\n",
    "    # BELOW GOES YOUR CODE\n",
    "    present = True if \"Python\" in elements else False\n",
    "    # ABOVE GOES YOUR CODE\n",
    "    return {\n",
    "        \"present\": present\n",
    "    }\n",
    "\n",
    "# Run the exercise\n",
    "exercise_28()"
   ]
  },
  {
   "cell_type": "code",
   "execution_count": 13,
   "id": "78367a15",
   "metadata": {},
   "outputs": [
    {
     "name": "stdout",
     "output_type": "stream",
     "text": [
      "✅ Great job! Exercise completed successfully.\n"
     ]
    }
   ],
   "source": [
    "@check_exercise_29\n",
    "def exercise_29(elements, to_check):\n",
    "    # This line is mandatory and should not be removed\n",
    "    ex_stat_init = True\n",
    "\n",
    "    # given the list `elements` and the list `to_check`, create the dictionary `presence` with the keys being the elements of `to_check` and the values being True if the element is in `elements`, otherwise False;\n",
    "    # BELOW GOES YOUR CODE\n",
    "    presence = {item: (item in elements) for item in to_check}\n",
    "    # ABOVE GOES YOUR CODE\n",
    "    return {\n",
    "        \"presence\": presence\n",
    "    }\n",
    "\n",
    "# Run the exercise\n",
    "exercise_29()"
   ]
  },
  {
   "cell_type": "code",
   "execution_count": 31,
   "id": "6f54999d",
   "metadata": {},
   "outputs": [
    {
     "name": "stdout",
     "output_type": "stream",
     "text": [
      "✅ Great job! Exercise completed successfully.\n"
     ]
    }
   ],
   "source": [
    "@check_exercise_30\n",
    "def exercise_30(text_to_repeat):\n",
    "    # This line is mandatory and should not be removed\n",
    "    ex_stat_init = True\n",
    "\n",
    "    # given the variable `text_to_repeat`, repeat it 5 times and assign it to the variable `text`;\n",
    "    # BELOW GOES YOUR CODE\n",
    "    text = text_to_repeat * 5\n",
    "    # ABOVE GOES YOUR CODE\n",
    "    return {\n",
    "        \"text\": text\n",
    "    }\n",
    "\n",
    "# Run the exercise\n",
    "exercise_30()"
   ]
  },
  {
   "cell_type": "code",
   "execution_count": 17,
   "id": "a0c70774",
   "metadata": {},
   "outputs": [
    {
     "name": "stdout",
     "output_type": "stream",
     "text": [
      "✅ Great job! Exercise completed successfully.\n"
     ]
    }
   ],
   "source": [
    "@check_exercise_31\n",
    "def exercise_31(text):\n",
    "    # This line is mandatory and should not be removed\n",
    "    ex_stat_init = True\n",
    "\n",
    "    # given the variable `text`, assign to the variable `text` the first 5 characters of the string;\n",
    "    # BELOW GOES YOUR CODE\n",
    "    text = text[0:5]\n",
    "    # ABOVE GOES YOUR CODE\n",
    "    return {\n",
    "        \"text\": text\n",
    "    }\n",
    "\n",
    "# Run the exercise\n",
    "exercise_31()"
   ]
  },
  {
   "cell_type": "code",
   "execution_count": 22,
   "id": "14296056",
   "metadata": {},
   "outputs": [
    {
     "name": "stdout",
     "output_type": "stream",
     "text": [
      "✅ Great job! Exercise completed successfully.\n"
     ]
    }
   ],
   "source": [
    "@check_exercise_32\n",
    "def exercise_32(text):\n",
    "    # This line is mandatory and should not be removed\n",
    "    ex_stat_init = True\n",
    "\n",
    "    # given the variable `text`, assign the last 5 characters to the variable `last_five`;\n",
    "    # BELOW GOES YOUR CODE\n",
    "    last_five=text[-5:]\n",
    "    # ABOVE GOES YOUR CODE\n",
    "    return {\n",
    "        \"last_five\": last_five\n",
    "    }\n",
    "\n",
    "# Run the exercise\n",
    "exercise_32()"
   ]
  },
  {
   "cell_type": "code",
   "execution_count": 23,
   "id": "b0db2cb6",
   "metadata": {},
   "outputs": [
    {
     "name": "stdout",
     "output_type": "stream",
     "text": [
      "✅ Great job! Exercise completed successfully.\n"
     ]
    }
   ],
   "source": [
    "@check_exercise_33\n",
    "def exercise_33(text):\n",
    "    # This line is mandatory and should not be removed\n",
    "    ex_stat_init = True\n",
    "\n",
    "    # given the variable `text`, change the text in uppercase;\n",
    "    # BELOW GOES YOUR CODE\n",
    "    text=text.upper()\n",
    "    # ABOVE GOES YOUR CODE\n",
    "    return {\n",
    "        \"text\": text\n",
    "    }\n",
    "\n",
    "# Run the exercise\n",
    "exercise_33()"
   ]
  },
  {
   "cell_type": "code",
   "execution_count": 25,
   "id": "f15295e0",
   "metadata": {},
   "outputs": [
    {
     "name": "stdout",
     "output_type": "stream",
     "text": [
      "✅ Great job! Exercise completed successfully.\n"
     ]
    }
   ],
   "source": [
    "@check_exercise_34\n",
    "def exercise_34(text):\n",
    "    # This line is mandatory and should not be removed\n",
    "    ex_stat_init = True\n",
    "\n",
    "    # given the variable `text`, change the the text in lowercase;\n",
    "    # BELOW GOES YOUR CODE\n",
    "    text=text.lower()\n",
    "    # ABOVE GOES YOUR CODE\n",
    "    return {\n",
    "        \"text\": text\n",
    "    }\n",
    "\n",
    "# Run the exercise\n",
    "exercise_34()"
   ]
  },
  {
   "cell_type": "code",
   "execution_count": 26,
   "id": "62974cb6",
   "metadata": {},
   "outputs": [
    {
     "name": "stdout",
     "output_type": "stream",
     "text": [
      "✅ Great job! Exercise completed successfully.\n"
     ]
    }
   ],
   "source": [
    "@check_exercise_35\n",
    "def exercise_35(text):\n",
    "    # This line is mandatory and should not be removed\n",
    "    ex_stat_init = True\n",
    "\n",
    "    # given the variable `text`, change the text with the first letter in uppercase;\n",
    "    # BELOW GOES YOUR CODE\n",
    "    text = text.capitalize()\n",
    "    # ABOVE GOES YOUR CODE\n",
    "    return {\n",
    "        \"text\": text\n",
    "    }\n",
    "\n",
    "# Run the exercise\n",
    "exercise_35()"
   ]
  },
  {
   "cell_type": "code",
   "execution_count": 28,
   "id": "f6daf14d",
   "metadata": {},
   "outputs": [
    {
     "name": "stdout",
     "output_type": "stream",
     "text": [
      "✅ Great job! Exercise completed successfully.\n"
     ]
    }
   ],
   "source": [
    "@check_exercise_36\n",
    "def exercise_36(text):\n",
    "    # This line is mandatory and should not be removed\n",
    "    ex_stat_init = True\n",
    "\n",
    "    # given the variable `text`, assignt the 18th character to the variable `char`;\n",
    "    # BELOW GOES YOUR CODE\n",
    "    char=text[17]\n",
    "    # ABOVE GOES YOUR CODE\n",
    "    return {\n",
    "        \"char\": char\n",
    "    }\n",
    "\n",
    "# Run the exercise\n",
    "exercise_36()"
   ]
  },
  {
   "cell_type": "code",
   "execution_count": 30,
   "id": "79ced7a1",
   "metadata": {},
   "outputs": [
    {
     "name": "stdout",
     "output_type": "stream",
     "text": [
      "✅ Great job! Exercise completed successfully.\n"
     ]
    }
   ],
   "source": [
    "@check_exercise_37\n",
    "def exercise_37(text):\n",
    "    # This line is mandatory and should not be removed\n",
    "    ex_stat_init = True\n",
    "\n",
    "    # given the variable `text`, assign the last character to the variable `last_char`;\n",
    "    # BELOW GOES YOUR CODE\n",
    "    last_char=text[-1]\n",
    "    # ABOVE GOES YOUR CODE\n",
    "    return {\n",
    "        \"last_char\": last_char\n",
    "    }\n",
    "\n",
    "# Run the exercise\n",
    "exercise_37()"
   ]
  },
  {
   "cell_type": "code",
   "execution_count": 31,
   "id": "c7f9c0fe",
   "metadata": {},
   "outputs": [
    {
     "name": "stdout",
     "output_type": "stream",
     "text": [
      "✅ Great job! Exercise completed successfully.\n"
     ]
    }
   ],
   "source": [
    "@check_exercise_38\n",
    "def exericse_38(text):\n",
    "    # This line is mandatory and should not be removed\n",
    "    ex_stat_init = True\n",
    "\n",
    "    # given the variable `text`, extract every third character starting the first one and assign it to the variable `every_third`;\n",
    "    # BELOW GOES YOUR CODE\n",
    "    every_third=text[::3]\n",
    "    # ABOVE GOES YOUR CODE\n",
    "    return {\n",
    "        \"every_third\": every_third\n",
    "    }\n",
    "\n",
    "# Run the exercise\n",
    "exericse_38()"
   ]
  },
  {
   "cell_type": "code",
   "execution_count": 33,
   "id": "429e5b48",
   "metadata": {},
   "outputs": [
    {
     "name": "stdout",
     "output_type": "stream",
     "text": [
      "✅ Great job! Exercise completed successfully.\n"
     ]
    }
   ],
   "source": [
    "@check_exercise_39\n",
    "def exercise_39(text):\n",
    "    # This line is mandatory and should not be removed\n",
    "    ex_stat_init = True\n",
    "\n",
    "    # given the variable `text`, extract every third character starting the second one and assign it to the variable `every_third`;\n",
    "    # BELOW GOES YOUR CODE\n",
    "    every_third=text[1::3]\n",
    "    # ABOVE GOES YOUR CODE\n",
    "    return {\n",
    "        \"every_third\": every_third\n",
    "    }\n",
    "\n",
    "# Run the exercise\n",
    "exercise_39()"
   ]
  },
  {
   "cell_type": "code",
   "execution_count": 38,
   "id": "d739b16b",
   "metadata": {},
   "outputs": [
    {
     "name": "stdout",
     "output_type": "stream",
     "text": [
      "✅ Great job! Exercise completed successfully.\n"
     ]
    }
   ],
   "source": [
    "@check_exercise_40\n",
    "def exercise_40(text):\n",
    "    # This line is mandatory and should not be removed\n",
    "    ex_stat_init = True\n",
    "\n",
    "    # given the variable `text` assign to the variable `length` the length of the string;\n",
    "    # BELOW GOES YOUR CODE\n",
    "    length = len(text)\n",
    "    # ABOVE GOES YOUR CODE\n",
    "    return {\n",
    "        \"length\": length\n",
    "    }\n",
    "\n",
    "# Run the exercise\n",
    "exercise_40()"
   ]
  },
  {
   "cell_type": "code",
   "execution_count": 39,
   "id": "9b6d11bc",
   "metadata": {},
   "outputs": [
    {
     "name": "stdout",
     "output_type": "stream",
     "text": [
      "✅ Great job! Exercise completed successfully.\n"
     ]
    }
   ],
   "source": [
    "@check_exercise_41\n",
    "def exercise_41(text):\n",
    "    # This line is mandatory and should not be removed\n",
    "    ex_stat_init = True\n",
    "\n",
    "    # given the variable `text`, assign to the variable `words` the number of words in the string;\n",
    "    # BELOW GOES YOUR CODE\n",
    "    words = len(text.split())\n",
    "    # ABOVE GOES YOUR CODE\n",
    "    return {\n",
    "        \"words\": words\n",
    "    }\n",
    "\n",
    "# Run the exercise\n",
    "exercise_41()"
   ]
  },
  {
   "cell_type": "code",
   "execution_count": 40,
   "id": "ab545364",
   "metadata": {},
   "outputs": [
    {
     "name": "stdout",
     "output_type": "stream",
     "text": [
      "✅ Great job! Exercise completed successfully.\n"
     ]
    }
   ],
   "source": [
    "@check_exercise_42\n",
    "def exercise_42(text):\n",
    "    # This line is mandatory and should not be removed\n",
    "    ex_stat_init = True\n",
    "\n",
    "    # given the variable `text`, assign to the variable `words` a list with all the words in the string;\n",
    "    # BELOW GOES YOUR CODE\n",
    "    words = list(text.split())\n",
    "    # ABOVE GOES YOUR CODE\n",
    "    return {\n",
    "        \"words\": words\n",
    "    }\n",
    "\n",
    "# Run the exercise\n",
    "exercise_42()"
   ]
  },
  {
   "cell_type": "code",
   "execution_count": 41,
   "id": "4ea4b385",
   "metadata": {},
   "outputs": [
    {
     "name": "stdout",
     "output_type": "stream",
     "text": [
      "✅ Great job! Exercise completed successfully.\n"
     ]
    }
   ],
   "source": [
    "@check_exercise_43\n",
    "def exercise_43(elements):\n",
    "    # This line is mandatory and should not be removed\n",
    "    ex_stat_init = True\n",
    "\n",
    "    # given the list `elements`, assign to the variable `last_element` the last element of the list;\n",
    "    # BELOW GOES YOUR CODE\n",
    "    last_element=elements[-1]\n",
    "    # ABOVE GOES YOUR CODE\n",
    "    return {\n",
    "        \"last_element\": last_element\n",
    "    }\n",
    "\n",
    "# Run the exercise\n",
    "exercise_43()"
   ]
  },
  {
   "cell_type": "code",
   "execution_count": 45,
   "id": "065f0b86",
   "metadata": {},
   "outputs": [
    {
     "name": "stdout",
     "output_type": "stream",
     "text": [
      "✅ Great job! Exercise completed successfully.\n"
     ]
    }
   ],
   "source": [
    "@check_exercise_44\n",
    "def exercise_44(elements):\n",
    "    # This line is mandatory and should not be removed\n",
    "    ex_stat_init = True\n",
    "\n",
    "    # given the list `elements`, assign to the variable `first_half` the first half of the list;\n",
    "    # BELOW GOES YOUR CODE\n",
    "    first_half=elements[:len(elements)//2]\n",
    "    # ABOVE GOES YOUR CODE\n",
    "    return {\n",
    "        \"first_half\": first_half\n",
    "    }\n",
    "\n",
    "# Run the exercise\n",
    "exercise_44()"
   ]
  },
  {
   "cell_type": "code",
   "execution_count": 46,
   "id": "aff6ea2e",
   "metadata": {},
   "outputs": [
    {
     "name": "stdout",
     "output_type": "stream",
     "text": [
      "✅ Great job! Exercise completed successfully.\n"
     ]
    }
   ],
   "source": [
    "@check_exercise_45\n",
    "def exercise_45(elements):\n",
    "    # This line is mandatory and should not be removed\n",
    "    ex_stat_init = True\n",
    "\n",
    "    # given the list `elements`, assign to the variable `second_half` the second half of the list;\n",
    "    # BELOW GOES YOUR CODE\n",
    "    second_half=elements[len(elements)//2:]\n",
    "    # ABOVE GOES YOUR CODE\n",
    "    return {\n",
    "        \"second_half\": second_half\n",
    "    }\n",
    "\n",
    "# Run the exercise\n",
    "exercise_45()"
   ]
  },
  {
   "cell_type": "code",
   "execution_count": 49,
   "id": "bb5c1da4",
   "metadata": {},
   "outputs": [
    {
     "name": "stdout",
     "output_type": "stream",
     "text": [
      "✅ Great job! Exercise completed successfully.\n"
     ]
    }
   ],
   "source": [
    "@check_exercise_46\n",
    "def exercise_46(elements):\n",
    "    # This line is mandatory and should not be removed\n",
    "    ex_stat_init = True\n",
    "\n",
    "    # given the list `elements`, assign to the variable `middle` the middle element of the list given that the list has an odd number of elements;\n",
    "    # BELOW GOES YOUR CODE\n",
    "    middle= elements[len(elements)//2]\n",
    "    # ABOVE GOES YOUR CODE\n",
    "    return {\n",
    "        \"middle\": middle\n",
    "    }\n",
    "\n",
    "# Run the exercise\n",
    "exercise_46()"
   ]
  },
  {
   "cell_type": "code",
   "execution_count": 53,
   "id": "443f5690",
   "metadata": {},
   "outputs": [
    {
     "name": "stdout",
     "output_type": "stream",
     "text": [
      "✅ Great job! Exercise completed successfully.\n"
     ]
    }
   ],
   "source": [
    "@check_exercise_47\n",
    "def exercise_47(elements):\n",
    "    # This line is mandatory and should not be removed\n",
    "    ex_stat_init = True\n",
    "\n",
    "    # given the list `elements`, assign to the variable `sorted_elements` the list sorted in ascending order;\n",
    "    # BELOW GOES YOUR CODE\n",
    "    sorted_elements = sorted(elements)\n",
    "    # ABOVE GOES YOUR CODE\n",
    "    return {\n",
    "        \"sorted_elements\": sorted_elements\n",
    "    }\n",
    "\n",
    "# Run the exercise\n",
    "exercise_47()"
   ]
  },
  {
   "cell_type": "code",
   "execution_count": 32,
   "id": "4cf47964",
   "metadata": {},
   "outputs": [
    {
     "name": "stdout",
     "output_type": "stream",
     "text": [
      "✅ Great job! Exercise completed successfully.\n"
     ]
    }
   ],
   "source": [
    "@check_exercise_48\n",
    "def exercise_48(elements):\n",
    "    # This line is mandatory and should not be removed\n",
    "    ex_stat_init = True\n",
    "\n",
    "    # given the list `elements`, assign to the variable `reversed_elements` the list in reverse order;\n",
    "    # BELOW GOES YOUR CODE\n",
    "    reversed_elements = elements[::-1]\n",
    "    # ABOVE GOES YOUR CODE\n",
    "    return {\n",
    "        \"reversed_elements\": reversed_elements\n",
    "    }\n",
    "\n",
    "# Run the exercise\n",
    "exercise_48()"
   ]
  },
  {
   "cell_type": "code",
   "execution_count": 35,
   "id": "90d36e38",
   "metadata": {},
   "outputs": [
    {
     "name": "stdout",
     "output_type": "stream",
     "text": [
      "✅ Great job! Exercise completed successfully.\n"
     ]
    }
   ],
   "source": [
    "@check_exercise_49\n",
    "def exercise_49(elements):\n",
    "    # This line is mandatory and should not be removed\n",
    "    ex_stat_init = True\n",
    "\n",
    "    # given the list `elements`, assign to the variable `unique_elements` the sorted list with unique elements;\n",
    "    # BELOW GOES YOUR CODE\n",
    "    unique_elements = sorted(set(elements))\n",
    "    # ABOVE GOES YOUR CODE\n",
    "    return {\n",
    "        \"unique_elements\": unique_elements\n",
    "    }\n",
    "\n",
    "# Run the exercise\n",
    "exercise_49()"
   ]
  },
  {
   "cell_type": "code",
   "execution_count": 60,
   "id": "3dfe827e",
   "metadata": {},
   "outputs": [
    {
     "name": "stdout",
     "output_type": "stream",
     "text": [
      "✅ Great job! Exercise completed successfully.\n"
     ]
    }
   ],
   "source": [
    "@check_exercise_50\n",
    "def exercise_50(elements, elements_to_add):\n",
    "    # This line is mandatory and should not be removed\n",
    "    ex_stat_init = True\n",
    "\n",
    "    # given the list `elements`, insert the element \"Python\" in the second position of the list, append the element \"is\" in the last position and remove the element \"Java\", and add the elements of the list `elements_to_add` to the list;\n",
    "    # BELOW GOES YOUR CODE\n",
    "    elements.insert(1,\"Python\")\n",
    "    elements.append(\"is\")\n",
    "    if \"Java\" in elements:\n",
    "        elements.remove(\"Java\")\n",
    "    elements.extend(elements_to_add)\n",
    "\n",
    "    # ABOVE GOES YOUR CODE\n",
    "    return {\n",
    "        \"elements\": elements\n",
    "    }\n",
    "\n",
    "# Run the exercise\n",
    "exercise_50()"
   ]
  },
  {
   "cell_type": "code",
   "execution_count": 61,
   "id": "d55ca2ab",
   "metadata": {},
   "outputs": [
    {
     "name": "stdout",
     "output_type": "stream",
     "text": [
      "✅ Great job! Exercise completed successfully.\n"
     ]
    }
   ],
   "source": [
    "@check_exercise_51\n",
    "def exercise_51(elements):\n",
    "    # This line is mandatory and should not be removed\n",
    "    ex_stat_init = True\n",
    "\n",
    "    # given the list `elements`, assign to the variable `sum_elements` the sum of the elements;\n",
    "    # BELOW GOES YOUR CODE\n",
    "    sum_elements=sum(elements)\n",
    "    # ABOVE GOES YOUR CODE\n",
    "    return {\n",
    "        \"sum_elements\": sum_elements\n",
    "    }\n",
    "\n",
    "# Run the exercise\n",
    "exercise_51()"
   ]
  },
  {
   "cell_type": "code",
   "execution_count": 62,
   "id": "e6d42444",
   "metadata": {},
   "outputs": [
    {
     "name": "stdout",
     "output_type": "stream",
     "text": [
      "✅ Great job! Exercise completed successfully.\n"
     ]
    }
   ],
   "source": [
    "@check_exercise_52\n",
    "def exercise_52(elements):\n",
    "    # This line is mandatory and should not be removed\n",
    "    ex_stat_init = True\n",
    "\n",
    "    # given the list `elements`, assign to the variable `max_element` the maximum element of the list;\n",
    "    # BELOW GOES YOUR CODE\n",
    "    max_element = max(elements)\n",
    "    # ABOVE GOES YOUR CODE\n",
    "    return {\n",
    "        \"max_element\": max_element\n",
    "    }\n",
    "\n",
    "# Run the exercise\n",
    "exercise_52()"
   ]
  },
  {
   "cell_type": "code",
   "execution_count": 63,
   "id": "94a35357",
   "metadata": {},
   "outputs": [
    {
     "name": "stdout",
     "output_type": "stream",
     "text": [
      "✅ Great job! Exercise completed successfully.\n"
     ]
    }
   ],
   "source": [
    "@check_exercise_53\n",
    "def exercise_53(elements):\n",
    "    # This line is mandatory and should not be removed\n",
    "    ex_stat_init = True\n",
    "\n",
    "    # given the list `elements`, assign to the variable `min_element` the minimum element of the list;\n",
    "    # BELOW GOES YOUR CODE\n",
    "    min_element = min(elements)\n",
    "    # ABOVE GOES YOUR CODE\n",
    "    return {\n",
    "        \"min_element\": min_element\n",
    "    }\n",
    "\n",
    "# Run the exercise\n",
    "exercise_53()"
   ]
  },
  {
   "cell_type": "code",
   "execution_count": 64,
   "id": "bf69d509",
   "metadata": {},
   "outputs": [
    {
     "name": "stdout",
     "output_type": "stream",
     "text": [
      "✅ Great job! Exercise completed successfully.\n"
     ]
    }
   ],
   "source": [
    "@check_exercise_54\n",
    "def exercise_54(elements):\n",
    "    # This line is mandatory and should not be removed\n",
    "    ex_stat_init = True\n",
    "\n",
    "    # given the list `elements`, assign to the variable `average` the average of the elements;\n",
    "    # BELOW GOES YOUR CODE\n",
    "    if elements:\n",
    "        average = sum(elements) / len(elements)\n",
    "    else:\n",
    "        average = 0\n",
    "    # ABOVE GOES YOUR CODE\n",
    "    return {\n",
    "        \"average\": average\n",
    "    }\n",
    "\n",
    "# Run the exercise\n",
    "exercise_54()"
   ]
  },
  {
   "cell_type": "code",
   "execution_count": 66,
   "id": "189c9bd5",
   "metadata": {},
   "outputs": [
    {
     "name": "stdout",
     "output_type": "stream",
     "text": [
      "✅ Great job! Exercise completed successfully.\n"
     ]
    }
   ],
   "source": [
    "@check_exercise_55\n",
    "def exercise_55(elements):\n",
    "    # This line is mandatory and should not be removed\n",
    "    ex_stat_init = True\n",
    "\n",
    "    # given the list `elements`, pop the last element of the list and assign it to the variable `last_element`;\n",
    "    # BELOW GOES YOUR CODE\n",
    "    last_element=elements.pop(len(elements)-1)\n",
    "    # ABOVE GOES YOUR CODE\n",
    "    return {\n",
    "        \"last_element\": last_element,\n",
    "        \"elements\": elements\n",
    "    }\n",
    "\n",
    "# Run the exercise\n",
    "exercise_55()"
   ]
  },
  {
   "cell_type": "code",
   "execution_count": 37,
   "id": "c1159585",
   "metadata": {},
   "outputs": [
    {
     "name": "stdout",
     "output_type": "stream",
     "text": [
      "✅ Great job! Exercise completed successfully.\n"
     ]
    }
   ],
   "source": [
    "@check_exercise_56\n",
    "def exercise_56(coordinates1, coordinates2):\n",
    "    # This line is mandatory and should not be removed\n",
    "    ex_stat_init = True\n",
    "\n",
    "    # given the tuples `coordinates1` and `coordinates2`, assign to the variable `distance` the distance between the two points;\n",
    "    # BELOW GOES YOUR CODE\n",
    "    import math\n",
    "\n",
    "    distance = math.sqrt((coordinates2[0] - coordinates1[0])**2 + (coordinates2[1] - coordinates1[1])**2)\n",
    "\n",
    "\n",
    "    # ABOVE GOES YOUR CODE\n",
    "    return {\n",
    "        \"distance\": distance\n",
    "    }\n",
    "\n",
    "# Run the exercise\n",
    "exercise_56()"
   ]
  },
  {
   "cell_type": "code",
   "execution_count": 72,
   "id": "4e497d1a",
   "metadata": {},
   "outputs": [
    {
     "name": "stdout",
     "output_type": "stream",
     "text": [
      "✅ Great job! Exercise completed successfully.\n"
     ]
    }
   ],
   "source": [
    "@check_exercise_57\n",
    "def exercise_57(first_tuple, second_tuple):\n",
    "    # This line is mandatory and should not be removed\n",
    "    ex_stat_init = True\n",
    "\n",
    "    # given the tuples `first_tuple` and `second_tuple`, assign to the variable `concatenated_tuple` the concatenation of the two tuples;\n",
    "    # BELOW GOES YOUR CODE\n",
    "    concatenated_tuple=first_tuple+second_tuple\n",
    "    # ABOVE GOES YOUR CODE\n",
    "    return {\n",
    "        \"concatenated_tuple\": concatenated_tuple\n",
    "    }\n",
    "\n",
    "# Run the exercise\n",
    "exercise_57()"
   ]
  },
  {
   "cell_type": "code",
   "execution_count": 73,
   "id": "8583ba95",
   "metadata": {},
   "outputs": [
    {
     "name": "stdout",
     "output_type": "stream",
     "text": [
      "✅ Great job! Exercise completed successfully.\n"
     ]
    }
   ],
   "source": [
    "@check_exercise_58\n",
    "def exercise_58(tuple_to_multiply):\n",
    "    # This line is mandatory and should not be removed\n",
    "    ex_stat_init = True\n",
    "\n",
    "    # given the tuple `tuple_to_multiply`, assign to the variable `multiplied_tuple` the tuple multiplied by 3;\n",
    "    # BELOW GOES YOUR CODE\n",
    "    multiplied_tuple=tuple_to_multiply*3\n",
    "    # ABOVE GOES YOUR CODE\n",
    "    return {\n",
    "        \"multiplied_tuple\": multiplied_tuple\n",
    "    }\n",
    "\n",
    "# Run the exercise\n",
    "exercise_58()"
   ]
  },
  {
   "cell_type": "code",
   "execution_count": 76,
   "id": "5da06cd8",
   "metadata": {},
   "outputs": [
    {
     "name": "stdout",
     "output_type": "stream",
     "text": [
      "✅ Great job! Exercise completed successfully.\n"
     ]
    }
   ],
   "source": [
    "@check_exercise_59\n",
    "def exercise_59(student_dictionary):\n",
    "    # This line is mandatory and should not be removed\n",
    "    ex_stat_init = True\n",
    "\n",
    "    # given the dictionary `student_dictionary`, assign to the variable `students` a list with all the keys of the dictionary;\n",
    "    # BELOW GOES YOUR CODE\n",
    "    students=list(student_dictionary.keys())\n",
    "    # ABOVE GOES YOUR CODE\n",
    "    return {\n",
    "        \"students\": students\n",
    "    }\n",
    "\n",
    "# Run the exercise\n",
    "exercise_59()"
   ]
  },
  {
   "cell_type": "code",
   "execution_count": 77,
   "id": "cdfa5ce6",
   "metadata": {},
   "outputs": [
    {
     "name": "stdout",
     "output_type": "stream",
     "text": [
      "✅ Great job! Exercise completed successfully.\n"
     ]
    }
   ],
   "source": [
    "@check_exercise_60\n",
    "def exercise_60(student_dictionary):\n",
    "    # This line is mandatory and should not be removed\n",
    "    ex_stat_init = True\n",
    "\n",
    "    # given the dictionary `student_dictionary`, assign to the variable `grades`a list with all the values of the dictionary;\n",
    "    # BELOW GOES YOUR CODE\n",
    "    grades=list(student_dictionary.values())\n",
    "    # ABOVE GOES YOUR CODE\n",
    "    return {\n",
    "        \"grades\": grades\n",
    "    }\n",
    "\n",
    "# Run the exercise\n",
    "exercise_60()"
   ]
  },
  {
   "cell_type": "code",
   "execution_count": 78,
   "id": "b305abf2",
   "metadata": {},
   "outputs": [
    {
     "name": "stdout",
     "output_type": "stream",
     "text": [
      "✅ Great job! Exercise completed successfully.\n"
     ]
    }
   ],
   "source": [
    "@check_exercise_61\n",
    "def exercise_61(student_dictionary):\n",
    "    # This line is mandatory and should not be removed\n",
    "    ex_stat_init = True\n",
    "\n",
    "    # given the dictionary `student_dictionary`, assign to the variable `students` a list of all the items of the dictionary;\n",
    "    # BELOW GOES YOUR CODE\n",
    "    students=list(student_dictionary.items())\n",
    "    # ABOVE GOES YOUR CODE\n",
    "    return {\n",
    "        \"students\": students\n",
    "    }\n",
    "\n",
    "# Run the exercise\n",
    "exercise_61()"
   ]
  },
  {
   "cell_type": "code",
   "execution_count": 80,
   "id": "63282078",
   "metadata": {},
   "outputs": [
    {
     "name": "stdout",
     "output_type": "stream",
     "text": [
      "✅ Great job! Exercise completed successfully.\n"
     ]
    }
   ],
   "source": [
    "@check_exercise_62\n",
    "def exercise_62(class_dictionary, students_dictionary):\n",
    "    # This line is mandatory and should not be removed\n",
    "    ex_stat_init = True\n",
    "\n",
    "    # given the dictionaries `class_dictionary` and `students_dictionary`, add to the `class_dictionary` the items of the `students_dictionary`;\n",
    "    # BELOW GOES YOUR CODE\n",
    "    class_dictionary.update(students_dictionary)\n",
    "    # ABOVE GOES YOUR CODE\n",
    "    return {\n",
    "        \"class_dictionary\": class_dictionary\n",
    "    }\n",
    "\n",
    "# Run the exercise\n",
    "exercise_62()"
   ]
  },
  {
   "cell_type": "code",
   "execution_count": 84,
   "id": "73ff1f03",
   "metadata": {},
   "outputs": [
    {
     "name": "stdout",
     "output_type": "stream",
     "text": [
      "✅ Great job! Exercise completed successfully.\n"
     ]
    }
   ],
   "source": [
    "@check_exercise_63\n",
    "def exercise_63(class_dictionary):\n",
    "    # This line is mandatory and should not be removed\n",
    "    ex_stat_init = True\n",
    "\n",
    "    # given the dictionary `class_dictionary`, remove the item with the key \"John\";\n",
    "    # BELOW GOES YOUR CODE\n",
    "    if \"John\" in class_dictionary:\n",
    "        del class_dictionary[\"John\"]\n",
    "    # ABOVE GOES YOUR CODE\n",
    "    return {\n",
    "        \"class_dictionary\": class_dictionary\n",
    "    }\n",
    "\n",
    "# Run the exercise\n",
    "exercise_63()"
   ]
  },
  {
   "cell_type": "code",
   "execution_count": 86,
   "id": "9cf81cee",
   "metadata": {},
   "outputs": [
    {
     "name": "stdout",
     "output_type": "stream",
     "text": [
      "✅ Great job! Exercise completed successfully.\n"
     ]
    }
   ],
   "source": [
    "@check_exercise_64\n",
    "def exercise_64(class_dictionary):\n",
    "    # This line is mandatory and should not be removed\n",
    "    ex_stat_init = True\n",
    "\n",
    "    # given the dictionary `class_dictionary`, assign to the variable `alex_grade` the grade of Alex, if it exists;\n",
    "    # BELOW GOES YOUR CODE\n",
    "    alex_grade = class_dictionary.get(\"Alex\", None)\n",
    "    # ABOVE GOES YOUR CODE\n",
    "    return {\n",
    "        \"alex_grade\": alex_grade\n",
    "    }\n",
    "\n",
    "# Run the exercise\n",
    "exercise_64()"
   ]
  },
  {
   "cell_type": "code",
   "execution_count": 87,
   "id": "f2393712",
   "metadata": {},
   "outputs": [
    {
     "name": "stdout",
     "output_type": "stream",
     "text": [
      "✅ Great job! Exercise completed successfully.\n"
     ]
    }
   ],
   "source": [
    "@check_exercise_65\n",
    "def exercise_65(first_set):\n",
    "    # This line is mandatory and should not be removed\n",
    "    ex_stat_init = True\n",
    "\n",
    "    # given the set `first_set`, assign to the variable `second_set` the `first_set` with the elements \"Python\" and \"is\" added;\n",
    "    # BELOW GOES YOUR CODE\n",
    "    second_set = first_set.copy()\n",
    "    second_set.add(\"Python\")\n",
    "    second_set.add(\"is\")\n",
    "    # ABOVE GOES YOUR CODE\n",
    "    return {\n",
    "        \"second_set\": second_set\n",
    "    }\n",
    "\n",
    "# Run the exercise\n",
    "exercise_65()"
   ]
  },
  {
   "cell_type": "code",
   "execution_count": 88,
   "id": "fccf4d10",
   "metadata": {},
   "outputs": [
    {
     "name": "stdout",
     "output_type": "stream",
     "text": [
      "✅ Great job! Exercise completed successfully.\n"
     ]
    }
   ],
   "source": [
    "@check_exercise_66\n",
    "def exercise_66(first_set):\n",
    "    # This line is mandatory and should not be removed\n",
    "    ex_stat_init = True\n",
    "\n",
    "    # given the set `first_set`, assign to the variable `second_set` the `first_set` with the elements \"Python\" and \"is\" removed;\n",
    "    # BELOW GOES YOUR CODE\n",
    "    second_set = first_set.copy()\n",
    "    second_set.remove(\"Python\")\n",
    "    second_set.remove(\"is\")\n",
    "    # ABOVE GOES YOUR CODE\n",
    "    return {\n",
    "        \"second_set\": second_set\n",
    "    }\n",
    "\n",
    "# Run the exercise\n",
    "exercise_66()"
   ]
  },
  {
   "cell_type": "code",
   "execution_count": 93,
   "id": "48e19fbe",
   "metadata": {},
   "outputs": [
    {
     "name": "stdout",
     "output_type": "stream",
     "text": [
      "✅ Great job! Exercise completed successfully.\n"
     ]
    }
   ],
   "source": [
    "@check_exercise_67\n",
    "def exercise_67(first_set):\n",
    "    # This line is mandatory and should not be removed\n",
    "    ex_stat_init = True\n",
    "\n",
    "    # given the set `first_set`, assign to the variable `second_set` the union of `first_set` with the set {\"Python\"};\n",
    "    # BELOW GOES YOUR CODE\n",
    "    second_set = first_set|{\"Python\"}\n",
    "\n",
    "    # ABOVE GOES YOUR CODE\n",
    "    return {\n",
    "        \"second_set\": second_set\n",
    "    }\n",
    "\n",
    "# Run the exercise\n",
    "exercise_67()"
   ]
  },
  {
   "cell_type": "code",
   "execution_count": 94,
   "id": "d44358dd",
   "metadata": {},
   "outputs": [
    {
     "name": "stdout",
     "output_type": "stream",
     "text": [
      "✅ Great job! Exercise completed successfully.\n"
     ]
    }
   ],
   "source": [
    "@check_exercise_68\n",
    "def exercise_68(first_set, second_set):\n",
    "    # This line is mandatory and should not be removed\n",
    "    ex_stat_init = True\n",
    "\n",
    "    # given the sets `first_set` and `second_set`, assign to the variable `third_set` the intersection of the two sets;\n",
    "    # BELOW GOES YOUR CODE\n",
    "    third_set=first_set&second_set\n",
    "    # ABOVE GOES YOUR CODE\n",
    "    return {\n",
    "        \"third_set\": third_set\n",
    "    }\n",
    "\n",
    "# Run the exercise\n",
    "exercise_68()"
   ]
  },
  {
   "cell_type": "code",
   "execution_count": 95,
   "id": "e836627c",
   "metadata": {},
   "outputs": [
    {
     "name": "stdout",
     "output_type": "stream",
     "text": [
      "✅ Great job! Exercise completed successfully.\n"
     ]
    }
   ],
   "source": [
    "@check_exercise_69\n",
    "def exercise_69(first_set, second_set):\n",
    "    # This line is mandatory and should not be removed\n",
    "    ex_stat_init = True\n",
    "\n",
    "    # given the sets `first_set` and `second_set`, assign to the variable `third_set` the difference of the two sets;\n",
    "    # BELOW GOES YOUR CODE\n",
    "    third_set=first_set-second_set\n",
    "    # ABOVE GOES YOUR CODE\n",
    "    return {\n",
    "        \"third_set\": third_set\n",
    "    }\n",
    "\n",
    "# Run the exercise\n",
    "exercise_69()"
   ]
  },
  {
   "cell_type": "code",
   "execution_count": 96,
   "id": "4a0ff913",
   "metadata": {},
   "outputs": [
    {
     "name": "stdout",
     "output_type": "stream",
     "text": [
      "✅ Great job! Exercise completed successfully.\n"
     ]
    }
   ],
   "source": [
    "@check_exercise_70\n",
    "def exercise_70(first_set, second_set):\n",
    "    # This line is mandatory and should not be removed\n",
    "    ex_stat_init = True\n",
    "\n",
    "    # given the sets `first_set` and `second_set`, assign to the variable `third_set` the symmetric difference of the two sets and remove the element \"Python\" from it, if present;\n",
    "    # BELOW GOES YOUR CODE\n",
    "    third_set=first_set^second_set\n",
    "    third_set.discard(\"Python\")\n",
    "    # ABOVE GOES YOUR CODE\n",
    "    return {\n",
    "        \"third_set\": third_set\n",
    "    }\n",
    "\n",
    "# Run the exercise\n",
    "exercise_70()"
   ]
  },
  {
   "cell_type": "code",
   "execution_count": 98,
   "id": "63816c84",
   "metadata": {},
   "outputs": [
    {
     "name": "stdout",
     "output_type": "stream",
     "text": [
      "✅ Great job! Exercise completed successfully.\n"
     ]
    }
   ],
   "source": [
    "@check_exercise_71\n",
    "def exercise_71(computations):\n",
    "    # This line is mandatory and should not be removed\n",
    "    ex_stat_init = True\n",
    "    \n",
    "    # convert all values of the dictionary `computations` to floats;\n",
    "    # BELOW GOES YOUR CODE\n",
    "    for key in computations:\n",
    "        computations[key] = float(computations[key])\n",
    "    # ABOVE GOES YOUR CODE\n",
    "    return {\n",
    "        \"computations\": computations\n",
    "    }\n",
    "\n",
    "# Run the exercise\n",
    "exercise_71()\n",
    "\n"
   ]
  },
  {
   "cell_type": "code",
   "execution_count": 99,
   "id": "52313e9a",
   "metadata": {},
   "outputs": [
    {
     "name": "stdout",
     "output_type": "stream",
     "text": [
      "✅ Great job! Exercise completed successfully.\n"
     ]
    }
   ],
   "source": [
    "@check_exercise_72\n",
    "def exercise_72(computations):\n",
    "    # This line is mandatory and should not be removed\n",
    "    ex_stat_init = True\n",
    "    \n",
    "    # convert all values of the dictionary `computations` to integers;\n",
    "    # BELOW GOES YOUR CODE\n",
    "    for key in computations:\n",
    "        computations[key] = int(computations[key])\n",
    "    # ABOVE GOES YOUR CODE\n",
    "    return {\n",
    "        \"computations\": computations\n",
    "    }\n",
    "\n",
    "# Run the exercise\n",
    "exercise_72()"
   ]
  },
  {
   "cell_type": "code",
   "execution_count": 100,
   "id": "6e5fedc2",
   "metadata": {},
   "outputs": [
    {
     "name": "stdout",
     "output_type": "stream",
     "text": [
      "✅ Great job! Exercise completed successfully.\n"
     ]
    }
   ],
   "source": [
    "@check_exercise_73\n",
    "def exercise_73(x, y, z):\n",
    "    # This line is mandatory and should not be removed\n",
    "    ex_stat_init = True\n",
    "    \n",
    "    # create a dictionary called `comparisons` with the keys \"eq_x_y\", \"eq_x_z\", \"eq_y_z\", \"ne_x_y\", \"ne_x_z\", \"ne_y_z\", \"gt_x_y\", \"gt_x_z\", \"gt_y_z\", \"ge_x_y\", \"ge_x_z\", \"ge_y_z\", \"lt_x_y\", \"lt_x_z\", \"lt_y_z\", \"le_x_y\", \"le_x_z\", \"le_y_z\" and the values the results of the respective operations given the variables x, y, z;\n",
    "    # BELOW GOES YOUR COD2\n",
    "    comparisons = {\n",
    "    \"eq_x_y\": x == y,\n",
    "    \"eq_x_z\": x == z,\n",
    "    \"eq_y_z\": y == z,\n",
    "    \"ne_x_y\": x != y,\n",
    "    \"ne_x_z\": x != z,\n",
    "    \"ne_y_z\": y != z,\n",
    "    \"gt_x_y\": x > y,\n",
    "    \"gt_x_z\": x > z,\n",
    "    \"gt_y_z\": y > z,\n",
    "    \"ge_x_y\": x >= y,\n",
    "    \"ge_x_z\": x >= z,\n",
    "    \"ge_y_z\": y >= z,\n",
    "    \"lt_x_y\": x < y,\n",
    "    \"lt_x_z\": x < z,\n",
    "    \"lt_y_z\": y < z,\n",
    "    \"le_x_y\": x <= y,\n",
    "    \"le_x_z\": x <= z,\n",
    "    \"le_y_z\": y <= z,\n",
    "}\n",
    "    # ABOVE GOES YOUR CODE\n",
    "    return {\n",
    "        \"comparisons\": comparisons\n",
    "    }\n",
    "\n",
    "# Run the exercise\n",
    "exercise_73()"
   ]
  },
  {
   "cell_type": "code",
   "execution_count": 39,
   "id": "0e59395c",
   "metadata": {},
   "outputs": [
    {
     "name": "stdout",
     "output_type": "stream",
     "text": [
      "✅ Great job! Exercise completed successfully.\n"
     ]
    }
   ],
   "source": [
    "@check_exercise_74\n",
    "def exercise_74(x, y, z):\n",
    "    # This line is mandatory and should not be removed\n",
    "    ex_stat_init = True\n",
    "    \n",
    "    # create a dictionary called `logicals` with the keys \"and_x_y\", \"and_x_z\", \"and_y_z\", \"or_x_y\", \"or_x_z\", \"or_y_z\", \"not_x\", \"not_y\", \"not_z\" and the values the results of the respective operations given the variables x, y, z;\n",
    "    # BELOW GOES YOUR CODE\n",
    "    logicals = {\n",
    "    \"and_x_y\": x and y,\n",
    "    \"and_x_z\": x and z,\n",
    "    \"and_y_z\": y and z,\n",
    "    \"or_x_y\": x or y,\n",
    "    \"or_x_z\": x or z,\n",
    "    \"or_y_z\": y or z,\n",
    "    \"not_x\": not x,\n",
    "    \"not_y\": not y,\n",
    "    \"not_z\": not z,\n",
    "}\n",
    "    # ABOVE GOES YOUR CODE\n",
    "    return {\n",
    "        \"logicals\": logicals\n",
    "    }\n",
    "\n",
    "# Run the exercise\n",
    "exercise_74()"
   ]
  },
  {
   "cell_type": "code",
   "execution_count": 40,
   "id": "efba3b7e",
   "metadata": {},
   "outputs": [
    {
     "name": "stdout",
     "output_type": "stream",
     "text": [
      "❗ The implementation is incorrect or the exercise was not implemented.\n"
     ]
    }
   ],
   "source": [
    "@check_exercise_75\n",
    "def exercise_75(amazing_string):\n",
    "    # This line is mandatory and should not be removed\n",
    "    ex_stat_init = True\n",
    "    \n",
    "    # replace the word \"amazing!\" with \"amazing! Especially when is taught at Sigmoid\" in the variable `amazing_string`;\n",
    "    # BELOW GOES YOUR CODE\n",
    "    amazing_string = amazing_string.replace(\"amazing!\", \"amazing! Especially when it is taught at Sigmoid\")\n",
    "\n",
    "\n",
    "    # ABOVE GOES YOUR CODE\n",
    "\n",
    "# Run the exercise\n",
    "exercise_75()"
   ]
  }
 ],
 "metadata": {
  "kernelspec": {
   "display_name": "Python 3",
   "language": "python",
   "name": "python3"
  },
  "language_info": {
   "codemirror_mode": {
    "name": "ipython",
    "version": 3
   },
   "file_extension": ".py",
   "mimetype": "text/x-python",
   "name": "python",
   "nbconvert_exporter": "python",
   "pygments_lexer": "ipython3",
   "version": "3.12.6"
  }
 },
 "nbformat": 4,
 "nbformat_minor": 5
}
